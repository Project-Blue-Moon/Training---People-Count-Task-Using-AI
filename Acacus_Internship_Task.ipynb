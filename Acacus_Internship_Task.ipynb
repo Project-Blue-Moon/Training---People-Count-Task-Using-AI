{
  "nbformat": 4,
  "nbformat_minor": 0,
  "metadata": {
    "colab": {
      "provenance": [],
      "collapsed_sections": [
        "hGJ080MQA1va",
        "fJk1QOXfBKUk",
        "5iScgizDBSn2",
        "j8EpodqLDO5T",
        "JLNBN81hDW0H",
        "1PSpYbh6DhAs",
        "PEINkpzyD2Xo",
        "uZxbcTI6EC_f",
        "HC3Hbr5uE0J2",
        "jGoGtN7aE3Um"
      ],
      "gpuType": "V28"
    },
    "kernelspec": {
      "name": "python3",
      "display_name": "Python 3"
    },
    "language_info": {
      "name": "python"
    },
    "accelerator": "TPU"
  },
  "cells": [
    {
      "cell_type": "markdown",
      "source": [
        "# Delete a folder"
      ],
      "metadata": {
        "id": "hGJ080MQA1va"
      }
    },
    {
      "cell_type": "code",
      "execution_count": null,
      "metadata": {
        "colab": {
          "base_uri": "https://localhost:8080/",
          "height": 339
        },
        "id": "vI7t48NlApWO",
        "outputId": "5e294781-8cf0-46c1-e568-9a615bf0b28a"
      },
      "source": [
        "import shutil\n",
        "\n",
        "F = 'output-v3' # Change this ONLY\n",
        "folder_path = f'/content/{F}'\n",
        "\n",
        "shutil.rmtree(folder_path)\n",
        "print(f\"Deleted folder: {folder_path}\")"
      ]
    },
    {
      "cell_type": "markdown",
      "source": [
        "# Stop warnings"
      ],
      "metadata": {
        "id": "fJk1QOXfBKUk"
      }
    },
    {
      "cell_type": "code",
      "source": [
        "import warnings\n",
        "warnings.filterwarnings(\"ignore\")"
      ],
      "metadata": {
        "id": "nUHUA_G0BM0q"
      },
      "execution_count": null,
      "outputs": []
    },
    {
      "cell_type": "markdown",
      "source": [
        "# Start Profiling"
      ],
      "metadata": {
        "id": "iDIDwiS4Ya46"
      }
    },
    {
      "cell_type": "code",
      "source": [
        "import cProfile\n",
        "import pstats\n",
        "import io\n",
        "\n",
        "pr = cProfile.Profile()\n",
        "pr.enable()"
      ],
      "metadata": {
        "id": "Pn5VJjf0Yceu"
      },
      "execution_count": null,
      "outputs": []
    },
    {
      "cell_type": "markdown",
      "source": [
        "# Load YOLO12x"
      ],
      "metadata": {
        "id": "5iScgizDBSn2"
      }
    },
    {
      "cell_type": "code",
      "source": [
        "!pip install ultralytics"
      ],
      "metadata": {
        "colab": {
          "base_uri": "https://localhost:8080/"
        },
        "id": "CcdnO0noBXDI",
        "outputId": "322cd764-c01c-4ed6-e8ac-22fb3aaf25d3"
      },
      "execution_count": null,
    },
    {
      "cell_type": "code",
      "source": [
        "from ultralytics import YOLO\n",
        "\n",
        "model = YOLO(\"yolo12x.pt\")  # Use 'yolo12s.pt', 'n', 's', 'm', 'l', or 'x' for different sizes"
      ],
      "metadata": {
        "id": "bTRuvUx6BUGv"
      },
      "execution_count": null,
      "outputs": []
    },
    {
      "cell_type": "markdown",
      "source": [
        "# Imports"
      ],
      "metadata": {
        "id": "j8EpodqLDO5T"
      }
    },
    {
      "cell_type": "code",
      "source": [
        "!pip install deep_sort_realtime pillow numpy"
      ],
      "metadata": {
        "colab": {
          "base_uri": "https://localhost:8080/"
        },
        "id": "bVRuLxIpFvTV",
        "outputId": "34fa08ad-afbb-40e2-ba06-65c4f1f91fe8"
      },
      "execution_count": null,
    },
    {
      "cell_type": "code",
      "source": [
        "import os, cv2, numpy as np, argparse\n",
        "from PIL import Image\n",
        "from datetime import datetime\n",
        "from deep_sort_realtime.deepsort_tracker import DeepSort\n",
        "np.float = float  # compatibility fix for some old code"
      ],
      "metadata": {
        "id": "fO487aIADN8U"
      },
      "execution_count": null,
      "outputs": []
    },
    {
      "cell_type": "markdown",
      "source": [
        "# Configurations (EDITABLE)"
      ],
      "metadata": {
        "id": "JLNBN81hDW0H"
      }
    },
    {
      "cell_type": "code",
      "source": [
        "V = \"v2\"\n",
        "detection_interval = 1  # every frame is processed"
      ],
      "metadata": {
        "id": "YxejdMxgDZTZ"
      },
      "execution_count": null,
      "outputs": []
    },
    {
      "cell_type": "markdown",
      "source": [
        "# Video I/O Setup"
      ],
      "metadata": {
        "id": "1PSpYbh6DhAs"
      }
    },
    {
      "cell_type": "code",
      "source": [
        "cap = cv2.VideoCapture(f\"{V}.mp4\")\n",
        "os.makedirs(f\"output-{V}\", exist_ok=True)\n",
        "\n",
        "timestamp = datetime.now().strftime(\"%Y%m%d-%H-%M-%S\")\n",
        "output_path = f\"output-{V}/{V}-{timestamp}.mp4\"\n",
        "\n",
        "fourcc = cv2.VideoWriter_fourcc(*\"mp4v\")\n",
        "fps = cap.get(cv2.CAP_PROP_FPS)\n",
        "total_frames = int(cap.get(cv2.CAP_PROP_FRAME_COUNT))\n",
        "width = int(cap.get(cv2.CAP_PROP_FRAME_WIDTH))\n",
        "height = int(cap.get(cv2.CAP_PROP_FRAME_HEIGHT))\n",
        "out = cv2.VideoWriter(output_path, fourcc, fps, (width, height))"
      ],
      "metadata": {
        "id": "I7zBACycDi8B"
      },
      "execution_count": null,
      "outputs": []
    },
    {
      "cell_type": "markdown",
      "source": [
        "# DeepSORT setup"
      ],
      "metadata": {
        "id": "PEINkpzyD2Xo"
      }
    },
    {
      "cell_type": "code",
      "source": [
        "deepsort = DeepSort(max_age=30, n_init=3, nn_budget=100)"
      ],
      "metadata": {
        "id": "CLFu-2shD897"
      },
      "execution_count": null,
      "outputs": []
    },
    {
      "cell_type": "markdown",
      "source": [
        "# Letterbox preprocessing function"
      ],
      "metadata": {
        "id": "uZxbcTI6EC_f"
      }
    },
    {
      "cell_type": "code",
      "source": [
        "def letterbox_image(image, size=(640, 640)):\n",
        "    ih, iw = image.shape[:2]\n",
        "    h, w = size\n",
        "    scale = min(w / iw, h / ih)\n",
        "    nw, nh = int(iw * scale), int(ih * scale)\n",
        "\n",
        "    # Resize\n",
        "    image_resized = cv2.resize(image, (nw, nh))\n",
        "    # Padding\n",
        "    new_image = np.full((h, w, 3), 114, dtype=np.uint8)\n",
        "    top = (h - nh) // 2\n",
        "    left = (w - nw) // 2\n",
        "    new_image[top:top+nh, left:left+nw] = image_resized\n",
        "\n",
        "    return new_image, scale, left, top"
      ],
      "metadata": {
        "id": "WtgPtrgsECes"
      },
      "execution_count": null,
      "outputs": []
    },
    {
      "cell_type": "markdown",
      "source": [
        "# Main loop"
      ],
      "metadata": {
        "id": "TEKtbre-Emwx"
      }
    },
    {
      "cell_type": "code",
      "source": [
        "frame_count = 0\n",
        "counted_ids = set()\n",
        "track_lifetime = {}\n",
        "\n",
        "while True:\n",
        "    ret, frame = cap.read()\n",
        "    if not ret:\n",
        "        break\n",
        "\n",
        "    frame_count += 1\n",
        "    print(f'{frame_count}/{total_frames}')\n",
        "\n",
        "    detections = []\n",
        "\n",
        "    if frame_count % detection_interval == 0:\n",
        "        # Preprocess (letterbox + RGB)\n",
        "        frame_resized, scale, pad_x, pad_y = letterbox_image(frame)\n",
        "        rgb = cv2.cvtColor(frame_resized, cv2.COLOR_BGR2RGB)\n",
        "\n",
        "        # Predict\n",
        "        results = model.predict(Image.fromarray(rgb))[0]\n",
        "\n",
        "        print(f\"Detected {len(results.boxes)} boxes\")\n",
        "        for box in results.boxes:\n",
        "            cls = int(box.cls[0])\n",
        "            conf = float(box.conf[0])\n",
        "            if cls == 0 and conf > 0.25:  # person\n",
        "                x1, y1, x2, y2 = box.xyxy[0]\n",
        "\n",
        "                # Undo letterbox scaling\n",
        "                x1 = (x1 - pad_x) / scale\n",
        "                y1 = (y1 - pad_y) / scale\n",
        "                x2 = (x2 - pad_x) / scale\n",
        "                y2 = (y2 - pad_y) / scale\n",
        "\n",
        "                x, y, w, h = x1, y1, x2 - x1, y2 - y1\n",
        "                detections.append([(x, y, w, h), conf, 'person'])\n",
        "\n",
        "    # === DEEP SORT UPDATE ===\n",
        "    track_bbs_ids = deepsort.update_tracks(detections, frame=frame)\n",
        "    print(f\"DeepSORT got {len(track_bbs_ids)} tracks\")\n",
        "\n",
        "    # === DRAW DETECTIONS ===\n",
        "    if len(detections) > 0:\n",
        "        for det in detections:\n",
        "            (x, y, w, h), conf, label = det\n",
        "            x1, y1, x2, y2 = map(int, [x, y, x + w, y + h])\n",
        "            shrink_factor = 0.9\n",
        "            dw = int((x2 - x1) * (1 - shrink_factor) / 2)\n",
        "            dh = int((y2 - y1) * (1 - shrink_factor) / 2)\n",
        "            x1_s, y1_s, x2_s, y2_s = x1 + dw, y1 + dh, x2 - dw, y2 - dh\n",
        "\n",
        "            overlay = frame.copy()\n",
        "            cv2.rectangle(overlay, (x1_s, y1_s), (x2_s, y2_s), (255, 0, 0), -1)\n",
        "            cv2.addWeighted(overlay, 0.4, frame, 0.6, 0, frame)\n",
        "\n",
        "    # === DRAW TRACKS ===\n",
        "    for track in track_bbs_ids:\n",
        "        if not track.is_confirmed():\n",
        "            continue\n",
        "        track_id = track.track_id\n",
        "        l, t, r, b = track.to_ltrb()\n",
        "        x1, y1, x2, y2 = map(int, [l, t, r, b])\n",
        "\n",
        "        track_lifetime[track_id] = track_lifetime.get(track_id, 0) + 1\n",
        "\n",
        "        if track_lifetime[track_id] == 10 and track_id not in counted_ids:\n",
        "            counted_ids.add(track_id)\n",
        "            print(f\"Track {track_id} confirmed. Total count: {len(counted_ids)}\")\n",
        "\n",
        "        cv2.rectangle(frame, (x1, y1), (x2, y2), (0, 255, 0), 2)\n",
        "        cv2.putText(frame, f'ID: {track_id}', (x1, y2 + 15),\n",
        "                    cv2.FONT_HERSHEY_SIMPLEX, 0.6, (0, 255, 0), 2)\n",
        "\n",
        "    # === TOTAL COUNT ===\n",
        "    total_text = f'Total: {len(counted_ids)}'\n",
        "    (text_size, baseline) = cv2.getTextSize(total_text, cv2.FONT_HERSHEY_SIMPLEX, 0.8, 2)\n",
        "    tw_total, th_total = text_size\n",
        "    cv2.rectangle(frame, (10, 10), (10 + tw_total + 10, 10 + th_total + 10), (255, 250, 250), -1)\n",
        "    cv2.putText(frame, total_text, (15, 10 + th_total + 5),\n",
        "                cv2.FONT_HERSHEY_SIMPLEX, 0.8, (125, 125, 125), 2)\n",
        "\n",
        "    # === DETECTION COUNT ===\n",
        "    detection_count_text = f'Detected: {len(detections)}'\n",
        "    (text_size, baseline) = cv2.getTextSize(detection_count_text, cv2.FONT_HERSHEY_SIMPLEX, 0.8, 2)\n",
        "    tw_det, th_det = text_size\n",
        "    cv2.rectangle(frame, (width - tw_det - 20, 10), (width - 10, 10 + th_det + 10), (255, 250, 250), -1)\n",
        "    cv2.putText(frame, detection_count_text, (width - tw_det - 15, 10 + th_det + 5),\n",
        "                cv2.FONT_HERSHEY_SIMPLEX, 0.8, (125, 125, 125), 2)\n",
        "\n",
        "    out.write(frame)"
      ],
      "metadata": {
        "colab": {
          "base_uri": "https://localhost:8080/"
        },
        "id": "21xDpKrjEpC5",
        "outputId": "f54b71d2-1ec5-45e4-a82b-ffd1b7594e9a"
      },
      "execution_count": null,
    },
    {
      "cell_type": "markdown",
      "source": [
        "# Output"
      ],
      "metadata": {
        "id": "HC3Hbr5uE0J2"
      }
    },
    {
      "cell_type": "code",
      "source": [
        "compatible_output_path = f\"output-{V}/{V}-{timestamp}-whatsapp.mp4\"\n",
        "os.system(f'ffmpeg -y -i \"{output_path}\" -vcodec libx264 -profile:v baseline -level 3.0 -pix_fmt yuv420p -preset slow -crf 24 -movflags +faststart \"{compatible_output_path}\"')\n",
        "print(f\"WhatsApp-compatible video saved to: {compatible_output_path}\")"
      ],
      "metadata": {
        "colab": {
          "base_uri": "https://localhost:8080/"
        },
        "id": "vtUER9dxExP8",
        "outputId": "4cd0cbcc-7177-4da7-8b2e-94c7cea54b89"
      },
      "execution_count": null,
    },
    {
      "cell_type": "markdown",
      "source": [
        "# Clean up"
      ],
      "metadata": {
        "id": "jGoGtN7aE3Um"
      }
    },
    {
      "cell_type": "code",
      "source": [
        "cap.release()\n",
        "out.release()\n",
        "print(f\"Saved output to: {output_path}\")"
      ],
      "metadata": {
        "colab": {
          "base_uri": "https://localhost:8080/"
        },
        "id": "duFq2nGME4x0",
        "outputId": "000a199a-26a2-4cdf-cb21-afcdd4d1c761"
      },
      "execution_count": null,
    },
    {
      "cell_type": "markdown",
      "source": [
        "# Finish Profiling"
      ],
      "metadata": {
        "id": "998HtLrzZVCX"
      }
    },
    {
      "cell_type": "code",
      "source": [
        "pr.disable()\n",
        "s = io.StringIO()\n",
        "sortby = 'cumulative'  # or 'time'\n",
        "ps = pstats.Stats(pr, stream=s).sort_stats(sortby)\n",
        "ps.print_stats()\n",
        "print(s.getvalue())"
      ],
      "metadata": {
        "colab": {
          "base_uri": "https://localhost:8080/"
        },
        "id": "lJtBEZAJZXPL",
        "outputId": "08d561e5-4799-4738-b3dc-79b70cfe101e"
      },
      "execution_count": null,
    }
  ]
}
